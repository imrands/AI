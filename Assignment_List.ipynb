{
 "cells": [
  {
   "cell_type": "markdown",
   "metadata": {},
   "source": [
    "Write formulla for area of circle where\n",
    "radius is 5\n",
    "pi is 3.14\n",
    "Create lists with following values with following names\n",
    "cities -> Faisalabad, Islamabad, Karachi, Lahore, Quetta\n",
    "result -> 93.4, 95, 98.7, 87.4, 83.02\n",
    "score -> 45, 70, 54, 90, 42"
   ]
  },
  {
   "cell_type": "code",
   "execution_count": 3,
   "metadata": {},
   "outputs": [
    {
     "name": "stdout",
     "output_type": "stream",
     "text": [
      "The calculated area is : 78.5\n"
     ]
    }
   ],
   "source": [
    "r = 5\n",
    "pi = 3.14\n",
    "area = pi*r*r\n",
    "print (\"The calculated area is :\", area)"
   ]
  },
  {
   "cell_type": "code",
   "execution_count": 4,
   "metadata": {},
   "outputs": [
    {
     "data": {
      "text/plain": [
       "list"
      ]
     },
     "execution_count": 4,
     "metadata": {},
     "output_type": "execute_result"
    }
   ],
   "source": [
    "cities = [\"Faisalabad\",\"Islamabad\",\"Karachi\",\"Lahore\",\"Quetta\"]\n",
    "type(cities)"
   ]
  },
  {
   "cell_type": "code",
   "execution_count": 34,
   "metadata": {},
   "outputs": [
    {
     "name": "stdout",
     "output_type": "stream",
     "text": [
      "[93.4, 95, 98.7, 87.4, 83.02]\n"
     ]
    }
   ],
   "source": [
    "results = [93.4,95,98.7,87.4,83.02]\n",
    "print(results)"
   ]
  },
  {
   "cell_type": "code",
   "execution_count": 45,
   "metadata": {},
   "outputs": [
    {
     "name": "stdout",
     "output_type": "stream",
     "text": [
      "The second value of the list is : 70\n",
      "The occurance of 54 in list is:  2\n",
      "[45, 70, 54, 90, 54, 42, 22]\n",
      "[45, 70, 54, 90, 54, 42, 22, 33]\n",
      "[45, 70, 54, 90, 54, 42, 22, 33, 22, 222, 33, 44, 44]\n"
     ]
    }
   ],
   "source": [
    "score = [45,70,54,90,54,42]\n",
    "print (\"The second value of the list is :\",score[1])\n",
    "print (\"The occurance of 54 in list is: \",score.count(54))\n",
    "score.append(22)\n",
    "print (score)\n",
    "score.insert(53,33)\n",
    "print(score)\n",
    "score.extend([22,222,33,44,44])\n",
    "print (score)"
   ]
  },
  {
   "cell_type": "code",
   "execution_count": null,
   "metadata": {},
   "outputs": [],
   "source": []
  }
 ],
 "metadata": {
  "kernelspec": {
   "display_name": "Python 3",
   "language": "python",
   "name": "python3"
  },
  "language_info": {
   "codemirror_mode": {
    "name": "ipython",
    "version": 3
   },
   "file_extension": ".py",
   "mimetype": "text/x-python",
   "name": "python",
   "nbconvert_exporter": "python",
   "pygments_lexer": "ipython3",
   "version": "3.7.4"
  }
 },
 "nbformat": 4,
 "nbformat_minor": 2
}
