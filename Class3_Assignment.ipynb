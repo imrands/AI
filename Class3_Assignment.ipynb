{
 "cells": [
  {
   "cell_type": "code",
   "execution_count": 5,
   "metadata": {},
   "outputs": [
    {
     "data": {
      "text/plain": [
       "'Ali is working in Google for 5 years and his salary is 125000'"
      ]
     },
     "execution_count": 5,
     "metadata": {},
     "output_type": "execute_result"
    }
   ],
   "source": [
    "employee_data = ['Ali', 125000, 'Google', 5]\n",
    "employee_data\n",
    "employee_data[0]+ ' is working in Google for '+ str(employee_data[-1])+' years and his salary is ' +str(employee_data[1])"
   ]
  },
  {
   "cell_type": "code",
   "execution_count": 56,
   "metadata": {},
   "outputs": [
    {
     "name": "stdout",
     "output_type": "stream",
     "text": [
      "'Hello Ahmed Bilal, \n",
      "Your application is accepted in BS Computer Science in Government College University. \n",
      "You have to submit fee 50000 before 28 Januray 2020. \n",
      "Your classes will start from 05 February 2020. \n",
      "Thanks'\n",
      "'Hello Ahmed Bilal,\n",
      "Your application is accepted for admission in \"BS Computer Science\" in Government College University.\n",
      "You have to submit fee 50000 before 28 Januray 2020.\n",
      "Your classes will start from 05 February 2020.\n",
      "Thanks'\n"
     ]
    }
   ],
   "source": [
    "# Example 2\n",
    "studentData = ['Ahmed', 'Bilal', 'Government College University', \n",
    "               'Computer Science', 'BS', 50000,'28 Januray 2020', '05 February 2020']\n",
    "#studentData[0:2]\n",
    "\n",
    "# with next line \n",
    "msg = \"'Hello {nme}, \\nYour application is accepted in {clas} in {uni}. \\nYou have to submit fee {fees} before {dte}. \\nYour classes will start from {dte1}. \\nThanks'\".format(nme=studentData[0]+' '+studentData[1],clas=studentData[4]+' '+studentData[3],uni=studentData[2],fees=str(studentData[-3]),dte=studentData[-2],dte1=studentData[-1])\n",
    "print(msg)\n",
    "\n",
    "# with multi line \n",
    "msg1=\"\"\"'Hello {nme},\n",
    "Your application is accepted for admission in \"{clas}\" in {uni}.\n",
    "You have to submit fee {fees} before {dte}.\n",
    "Your classes will start from {dte1}.\n",
    "Thanks'\"\"\".format(nme=studentData[0]+' '+studentData[1],clas=studentData[4]+' '+studentData[3],uni=studentData[2],fees=str(studentData[-3]),dte=studentData[-2],dte1=studentData[-1])\n",
    "print(msg1)\n",
    "\n",
    "\n"
   ]
  },
  {
   "cell_type": "code",
   "execution_count": 85,
   "metadata": {},
   "outputs": [
    {
     "name": "stdout",
     "output_type": "stream",
     "text": [
      "Positive indexing...\n",
      "['Faisalabad', 'Lahore', 'Islamabad', 'Peshawar']\n",
      "['Islamabad', 'Peshawar', 'Quetta', 'Sahiwal']\n",
      "['Sahiwal', 'Rawalpindi', 'Sialkot']\n",
      "\n",
      "Negative indexing...\n",
      "['Quetta', 'Sahiwal', 'Rawalpindi']\n",
      "['Peshawar', 'Quetta', 'Sahiwal', 'Rawalpindi', 'Sialkot']\n"
     ]
    }
   ],
   "source": [
    "cities = [\"Faisalabad\", \"Lahore\", \"Islamabad\", \"Peshawar\", \"Quetta\", \"Sahiwal\", \"Rawalpindi\", \"Sialkot\"]\n",
    "cities \n",
    "\n",
    "print('Positive indexing...')\n",
    "print(cities[0:4])\n",
    "print(cities[2:6])\n",
    "print(cities[5:])\n",
    "\n",
    "print('\\nNegative indexing...')\n",
    "print(cities[-4:-1])\n",
    "print(cities[-5:])"
   ]
  },
  {
   "cell_type": "code",
   "execution_count": 87,
   "metadata": {},
   "outputs": [
    {
     "data": {
      "text/plain": [
       "['Ali Raza',\n",
       " 22,\n",
       " 91.24,\n",
       " 'Computer Science',\n",
       " 5,\n",
       " 'University of Agriculture',\n",
       " '20 February 2019',\n",
       " 8]"
      ]
     },
     "execution_count": 87,
     "metadata": {},
     "output_type": "execute_result"
    }
   ],
   "source": [
    "studentData = [\"Ali Raza\", 22, 91.24, \"Computer Science\", 5, \"University of Agriculture\"]\n",
    "studentData.append('20 February 2019')\n",
    "studentData.append(8)\n",
    "studentData"
   ]
  },
  {
   "cell_type": "code",
   "execution_count": 96,
   "metadata": {},
   "outputs": [
    {
     "data": {
      "text/plain": [
       "['Ali Raza',\n",
       " 'M. Iqbal',\n",
       " 22,\n",
       " 91.24,\n",
       " 'Computer Science',\n",
       " 25000,\n",
       " 25000,\n",
       " 5,\n",
       " 'University of Agriculture',\n",
       " '20 February 2019',\n",
       " 8]"
      ]
     },
     "execution_count": 96,
     "metadata": {},
     "output_type": "execute_result"
    }
   ],
   "source": [
    "#1. 25000 at index 4\n",
    "#2. 'M. Iqbal' at index 1\n",
    "#studentData.insert(4,25000)\n",
    "#studentData.insert(1,\"M. Iqbal\")\n",
    "studentData\n",
    "\n",
    "\n",
    "\n"
   ]
  },
  {
   "cell_type": "code",
   "execution_count": 97,
   "metadata": {},
   "outputs": [
    {
     "data": {
      "text/plain": [
       "['Ali Raza',\n",
       " 'M. Iqbal',\n",
       " 22,\n",
       " 25000,\n",
       " 25000,\n",
       " 5,\n",
       " 'University of Agriculture',\n",
       " '20 February 2019',\n",
       " 8]"
      ]
     },
     "execution_count": 97,
     "metadata": {},
     "output_type": "execute_result"
    }
   ],
   "source": [
    "#1. 'Computer Science'\n",
    "#2. 91.24\n",
    "studentData.remove('Computer Science')\n",
    "studentData.remove(91.24)\n",
    "studentData"
   ]
  },
  {
   "cell_type": "code",
   "execution_count": 98,
   "metadata": {},
   "outputs": [
    {
     "name": "stdout",
     "output_type": "stream",
     "text": [
      "8\n",
      "25000\n"
     ]
    }
   ],
   "source": [
    "#1. Last value from list\n",
    "#2. value at 3rd index\n",
    "lst = studentData.pop(-1)\n",
    "thrd = studentData.pop(3)\n",
    "print(lst)\n",
    "print(thrd)"
   ]
  },
  {
   "cell_type": "code",
   "execution_count": 142,
   "metadata": {},
   "outputs": [
    {
     "data": {
      "text/plain": [
       "213000"
      ]
     },
     "execution_count": 142,
     "metadata": {},
     "output_type": "execute_result"
    }
   ],
   "source": [
    "employeeData = [[\"Ali\", 35000, \"Software Engineer\"],\n",
    "\t\t\t\t[\"Talha\", 55000, \"Product Manager\"],\n",
    "\t\t\t\t[\"Nasir\", 79000, \"Computer Engineer\"],\n",
    "\t\t\t\t[\"Khalid\", 44000, \"DBA\"]]\n",
    "\n",
    "emp_nme=[]\n",
    "sal = 0\n",
    "for a in employeeData:\n",
    "    sal = a[1]\n",
    "    if sal > 50000:\n",
    "        emp_nme.append(a[0])\n",
    "emp_nme    \n",
    "\n",
    "\n",
    "tot_sal = 0\n",
    "for a in employeeData:\n",
    "    tot_sal += a[1]    \n",
    "tot_sal    \n",
    "\n",
    "\n",
    "         "
   ]
  },
  {
   "cell_type": "code",
   "execution_count": 176,
   "metadata": {},
   "outputs": [
    {
     "name": "stdout",
     "output_type": "stream",
     "text": [
      "['Ali', 35000, 'Software Engineer']\n",
      "['Talha', 55000, 'Product Manager']\n",
      "['Nasir', 79000, 'Computer Engineer']\n",
      "['Khalid', 44000, 'DBA']\n"
     ]
    }
   ],
   "source": [
    "ed = [[\"Ali\", 35000, \"Software Engineer\"],\n",
    "\t\t\t\t[\"Talha\", 55000, \"Product Manager\"],\n",
    "\t\t\t\t[\"Nasir\", 79000, \"Computer Engineer\"],\n",
    "\t\t\t\t[\"Khalid\", 44000, \"DBA\"]]\n",
    "i = 0\n",
    "while i < len(ed):\n",
    "    print(ed[i])\n",
    "    i +=1 \n"
   ]
  },
  {
   "cell_type": "code",
   "execution_count": 193,
   "metadata": {},
   "outputs": [
    {
     "data": {
      "text/plain": [
       "[['Ali', 35000, 'Software Engineer'],\n",
       " ['Talha', 55000, 'Product Manager'],\n",
       " ['Nasir', 90000, 'Product Manager'],\n",
       " ['Khalid', 44000, 'DBA']]"
      ]
     },
     "execution_count": 193,
     "metadata": {},
     "output_type": "execute_result"
    }
   ],
   "source": [
    "#1. Change salary of nasir from 79000 to 90000 and designation to \"Product Manager\"\n",
    "#2. Change salary of Khalid to 50000\n",
    "edata = [[\"Ali\", 35000, \"Software Engineer\"],\n",
    "\t\t\t\t[\"Talha\", 55000, \"Product Manager\"],\n",
    "\t\t\t\t[\"Nasir\", 79000, \"Computer Engineer\"],\n",
    "\t\t\t\t[\"Khalid\", 44000, \"DBA\"]]\n",
    "\n",
    "edata[2][1] = 90000\n",
    "edata[2][2] = \"Product Manager\"\n",
    "edata\n"
   ]
  },
  {
   "cell_type": "code",
   "execution_count": 201,
   "metadata": {},
   "outputs": [
    {
     "name": "stdout",
     "output_type": "stream",
     "text": [
      "Incorrect login details..\n",
      "Email not verified..\n",
      "Login Success...\n"
     ]
    }
   ],
   "source": [
    "# Data 1\n",
    "username = \"faizan1214\"\n",
    "password = \"qwerty\"\n",
    "emailVerified = False\n",
    "# Case 1\n",
    "if username == \"faizan1214\" and password == \"qwersty\":\n",
    "    if emailVerified == True:\n",
    "        print(\"Login Success...\")\n",
    "    else:\n",
    "        print(\"Email not verified..\")\n",
    "else: \n",
    "    print(\"Incorrect login details..\")\n",
    "\n",
    "# Case 2\n",
    "if username == \"faizan1214\" and password == \"qwerty\":\n",
    "    if emailVerified == True:\n",
    "        print(\"Login Success...\")\n",
    "    else:\n",
    "        print(\"Email not verified..\")\n",
    "else: \n",
    "    print(\"Incorrect login details..\")\n",
    "    \n",
    "# Data 2\n",
    "emailVerified = True\n",
    "if username == \"faizan1214\" and password == \"qwerty\":\n",
    "    if emailVerified == True:\n",
    "        print(\"Login Success...\")\n",
    "    else:\n",
    "        print(\"Email not verified..\")\n",
    "else: \n",
    "    print(\"Incorrect login details..\")\n"
   ]
  }
 ],
 "metadata": {
  "kernelspec": {
   "display_name": "Python 3",
   "language": "python",
   "name": "python3"
  },
  "language_info": {
   "codemirror_mode": {
    "name": "ipython",
    "version": 3
   },
   "file_extension": ".py",
   "mimetype": "text/x-python",
   "name": "python",
   "nbconvert_exporter": "python",
   "pygments_lexer": "ipython3",
   "version": "3.7.4"
  }
 },
 "nbformat": 4,
 "nbformat_minor": 2
}
